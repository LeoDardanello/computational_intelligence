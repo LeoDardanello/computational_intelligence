{
 "cells": [
  {
   "cell_type": "markdown",
   "metadata": {},
   "source": [
    " #### This file contains all the method and variations that were tried in order to solve the problem with dimensio 5 & 10\n"
   ]
  },
  {
   "cell_type": "markdown",
   "metadata": {},
   "source": [
    "### Warning: DEAD CODE  \n",
    "### All the code inside this file doesn't work if compiled \"as is\"                                                                "
   ]
  },
  {
   "cell_type": "code",
   "execution_count": null,
   "metadata": {},
   "outputs": [],
   "source": [
    "def uniform_crossover_multiple_ind(W, p):\n",
    "    k = len(W)\n",
    "    l = len(W[0])\n",
    "    \n",
    "    # Initialization of v\n",
    "    v = [0] * l\n",
    "    \n",
    "    # Crossover Operation\n",
    "    for i in range(l):\n",
    "        #  Check probability\n",
    "        if p >= randint(0,1):\n",
    "            # Load v with ith elements from each vector in W\n",
    "            v = [W[j][i] for j in range(k)]\n",
    "            # Randomly Shuffle v\n",
    "            shuffle(v)\n",
    "            \n",
    "            #Put back Operation\n",
    "            for j in range(k):\n",
    "                W[j][i] = v[j]\n",
    "\n",
    "    #Return modified set of vectors W\n",
    "    return W"
   ]
  },
  {
   "cell_type": "code",
   "execution_count": null,
   "metadata": {},
   "outputs": [],
   "source": [
    "def apply_fitness_penalty(pop,off):\n",
    "    # apply a penalty to the fitness of the individuals\n",
    "    # this is done to avoid that all individuals have the same fitness\n",
    "    radius=10\n",
    "    alpha=1.5 #alpha>0\n",
    "    beta=2.5  #beta>1\n",
    "    pop=sorted(pop, key=lambda i: i.get_fitness(), reverse=True)\n",
    "    off_ind=pop.index(off)\n",
    "    if off_ind<radius:\n",
    "        min_ind=0\n",
    "    else:\n",
    "        min_ind=off_ind-radius\n",
    "    if off_ind+radius>len(pop)-1:\n",
    "        max_ind=len(pop)\n",
    "    else:\n",
    "        max_ind=off_ind+radius\n",
    "    for i in range(min_ind,max_ind):\n",
    "       dist=hamming_distance(pop[i].get_genome(),off.get_genome())\n",
    "       if dist<10:\n",
    "            pen=(1-(pop[i].get_fitness()/radius)**alpha)\n",
    "            new_fitness=(pop[i].get_fitness()**beta)/pen\n",
    "    return pop"
   ]
  },
  {
   "cell_type": "markdown",
   "metadata": {},
   "source": [
    "### Entropy\n"
   ]
  },
  {
   "cell_type": "code",
   "execution_count": null,
   "metadata": {},
   "outputs": [],
   "source": [
    "def compute_probabilities(pop):\n",
    "    concat=''\n",
    "    for i in range(len(pop)):\n",
    "        concat+=''.join(map(str,pop[i].get_genome()))\n",
    "    p=[]\n",
    "    for i in range(len(pop)):\n",
    "        to_compare=concat[i*GENOME_LENGHT:(i+1)*GENOME_LENGHT] #prendo intervallo di 1000\n",
    "        count=0\n",
    "        for j in range(i,len(pop)):\n",
    "            to_compare2=concat[j*GENOME_LENGHT:(j+1)*GENOME_LENGHT]\n",
    "            if to_compare==to_compare2:\n",
    "                count+=1\n",
    "        p.append(count/len(pop))\n",
    "    return p\n",
    "def compute_pop_entropy(pop):\n",
    "    # compute population entropy\n",
    "    # to avod numerical problems, we add a small value (1e-10) to the probability\n",
    "    prob=compute_probabilities(pop)\n",
    "    entropy = -sum([p * np.log2(p+1e-10) for p in prob ])\n",
    "    return entropy/np.log2(GENOME_LENGHT)\n",
    "\n",
    "def entropy_stocastic_selection(pop):\n",
    "    max_entropy = -1\n",
    "    candidates = sample(range(len(pop)), k=30)\n",
    "    candidates = [pop[i] for i in candidates]\n",
    "    candidates=sorted(candidates, key=lambda i: i.get_fitness(), reverse=True)[:3]\n",
    "    for i in range(len(candidates)):\n",
    "        for j in range(i + 1, len(candidates)):\n",
    "            copy_pop = copy(pop)\n",
    "            new_ind=two_cut_xover(candidates[i], candidates[j]) # crossover\n",
    "            copy_pop.append(new_ind)\n",
    "            new_etr=compute_pop_entropy(copy_pop)\n",
    "\n",
    "            if new_etr > max_entropy:\n",
    "                max_entropy = new_etr\n",
    "                best_ind = new_ind\n",
    "    return best_ind"
   ]
  }
 ],
 "metadata": {
  "kernelspec": {
   "display_name": "lab9-oyELrCuC-py3.12",
   "language": "python",
   "name": "python3"
  },
  "language_info": {
   "name": "python",
   "version": "3.12.0"
  }
 },
 "nbformat": 4,
 "nbformat_minor": 2
}
