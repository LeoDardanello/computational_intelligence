{
 "cells": [
  {
   "cell_type": "markdown",
   "metadata": {},
   "source": [
    "Copyright **`(c)`** 2023 Giovanni Squillero `<giovanni.squillero@polito.it>`  \n",
    "[`https://github.com/squillero/computational-intelligence`](https://github.com/squillero/computational-intelligence)  \n",
    "Free for personal or classroom use; see [`LICENSE.md`](https://github.com/squillero/computational-intelligence/blob/master/LICENSE.md) for details.  "
   ]
  },
  {
   "cell_type": "markdown",
   "metadata": {},
   "source": [
    "# LAB9\n",
    "\n",
    "Write a local-search algorithm (eg. an EA) able to solve the *Problem* instances 1, 2, 5, and 10 on a 1000-loci genomes, using a minimum number of fitness calls. That's all.\n",
    "\n",
    "### Deadlines:\n",
    "\n",
    "* Submission: Sunday, December 3 ([CET](https://www.timeanddate.com/time/zones/cet))\n",
    "* Reviews: Sunday, December 10 ([CET](https://www.timeanddate.com/time/zones/cet))\n",
    "\n",
    "Notes:\n",
    "\n",
    "* Reviews will be assigned  on Monday, December 4\n",
    "* You need to commit in order to be selected as a reviewer (ie. better to commit an empty work than not to commit)"
   ]
  },
  {
   "cell_type": "code",
   "execution_count": null,
   "metadata": {},
   "outputs": [],
   "source": [
    "from random import choices,random,randint,sample,shuffle\n",
    "from copy import copy\n",
    "import numpy as np\n",
    "import lab9_lib\n",
    "from pprint import pprint\n"
   ]
  },
  {
   "cell_type": "markdown",
   "metadata": {},
   "source": [
    "## PARAMETERS INITIALIZATION & PROBLEM GENERATION"
   ]
  },
  {
   "cell_type": "code",
   "execution_count": null,
   "metadata": {},
   "outputs": [],
   "source": [
    "PROBLEM_DIM = 1\n",
    "\n",
    "GENES_PER_LOCUS = 1\n",
    "GENOME_LENGHT=1000*GENES_PER_LOCUS\n",
    "POP_DIM= 500\n",
    "OFFSPRING_SIZE = 300\n",
    "N_GENERATIONS = 1_000_000\n",
    "N_GENS_WO_IMPROVEMENT_EXTINCTION = 5\n",
    "MUTATION_PROB = 0.2\n",
    "\n",
    "\n",
    "fitness = lab9_lib.make_problem(PROBLEM_DIM)\n"
   ]
  },
  {
   "cell_type": "markdown",
   "metadata": {},
   "source": [
    "## INDIVIDUAL CLASS"
   ]
  },
  {
   "cell_type": "code",
   "execution_count": null,
   "metadata": {},
   "outputs": [],
   "source": [
    "def hamming_distance(g1, g2):\n",
    "    return sum([1 for i in range(GENOME_LENGHT) if g1[i] != g2[i]])"
   ]
  },
  {
   "cell_type": "code",
   "execution_count": null,
   "metadata": {},
   "outputs": [],
   "source": [
    "class Individual:\n",
    "    def __init__(self, genome):\n",
    "        self.genome = genome\n",
    "        self.fitness = fitness(genome)\n",
    "        # self.gender=gender\n",
    "    \n",
    "    def get_genome(self):\n",
    "        return self.genome\n",
    "\n",
    "    def get_fitness(self):\n",
    "        return self.fitness\n",
    "\n",
    "    def update_fitness(self,upd_fit):\n",
    "        self.fitness = upd_fit \n",
    "        \n",
    "    def set_genome_update_fitness(self, genome):\n",
    "        self.genome = genome\n",
    "        self.fitness = fitness(genome)"
   ]
  },
  {
   "cell_type": "markdown",
   "metadata": {},
   "source": [
    "## GA"
   ]
  },
  {
   "cell_type": "code",
   "execution_count": null,
   "metadata": {},
   "outputs": [],
   "source": [
    "\n",
    "def two_cut_xover_with_mut(g1, g2):\n",
    "    cut1 = randint(0, GENOME_LENGHT)\n",
    "    cut2 = randint(0, GENOME_LENGHT)\n",
    "    if cut1 > cut2:\n",
    "        cut1, cut2 = cut2, cut1\n",
    "    joined = (\n",
    "        g1.get_genome()[:cut1] + g2.get_genome()[cut1:cut2] + g1.get_genome()[cut2:]\n",
    "    )\n",
    "    mut_prob=1/GENOME_LENGHT\n",
    "    for i in range(GENOME_LENGHT):\n",
    "        if random() < mut_prob:\n",
    "            joined[i] = 1 - joined[i]\n",
    "    return Individual(joined)\n",
    "\n",
    "\n",
    "def tournament_selection(pop, size=10):\n",
    "    c_ind = choices(range(len(pop)), k=size)\n",
    "    selected_individuals = [pop[i] for i in c_ind]\n",
    "    # print(\"sel\", selected_individuals)\n",
    "    return sorted(selected_individuals, key=lambda i: i.get_fitness(), reverse=True)[0]\n",
    "\n",
    "\n",
    "def mutation(g):\n",
    "    # Bit Flip Mutation\n",
    "    mut_prob=1/GENOME_LENGHT\n",
    "    genome = g.get_genome()\n",
    "    for i in range(GENOME_LENGHT):\n",
    "        if random() < mut_prob:\n",
    "            genome[i] = 1 - genome[i]\n",
    "    return Individual(genome)\n",
    "\n",
    "\n",
    "def extinction(pop,to_keep=0):\n",
    "    to_remove = np.random.choice(pop, size=(POP_DIM-to_keep) , replace=False)\n",
    "    for i in to_remove:\n",
    "        pop.remove(i)\n",
    "    pop += [Individual(choices([0, 1], k=GENOME_LENGHT)) for _ in range(POP_DIM-to_keep)]\n",
    "    return pop\n",
    "\n",
    "def two_level_diversity_selection(pop, n_best):\n",
    "    # first select individuals respect to the fitness value,\n",
    "    # then choose for reproduction the most different individuals\n",
    "    selected_individuals = sample(range(len(pop)),k=30)  #extract 20 indexes of individuals from pop\n",
    "    selected_individuals = [pop[i] for i in selected_individuals] #get the individuals from pop\n",
    "\n",
    "    to_compare = sorted(selected_individuals, key=lambda i: i.get_fitness(), reverse=True)[:n_best] #get the best fitness wise\n",
    "\n",
    "    max_distance = -1\n",
    "    selected = []\n",
    "    for i in range(len(to_compare)):\n",
    "        for j in range(i + 1, len(to_compare)):\n",
    "            distance = hamming_distance(to_compare[i].get_genome(), to_compare[j].get_genome())\n",
    "            if distance > max_distance:\n",
    "                max_distance = distance\n",
    "                selected = [to_compare[i], to_compare[j]]\n",
    "    # print(\"max_distance\", max_distance)\n",
    "    return selected[0],selected[1]\n",
    "\n",
    " "
   ]
  },
  {
   "cell_type": "code",
   "execution_count": 203,
   "metadata": {},
   "outputs": [
    {
     "name": "stdout",
     "output_type": "stream",
     "text": [
      "Generation 0: 54.70%, entropy: 2.208290327345859\n",
      "Generation 1: 54.70%, entropy: 6.838750271403668\n",
      "Generation 2: 54.70%, entropy: 12.527605218653298\n",
      "Generation 3: 55.40%, entropy: 16.796695569682964\n",
      "Generation 4: 55.50%, entropy: 18.305254747446043\n",
      "Generation 5: 55.50%, entropy: 18.730858137964596\n",
      "Generation 6: 55.50%, entropy: 18.730858137964596\n",
      "Generation 7: 55.50%, entropy: 18.730858137964596\n",
      "Generation 8: 55.50%, entropy: 18.730858137964596\n",
      "Generation 9: 55.50%, entropy: 18.730858137964596\n",
      "Extinction!\n",
      "Generation 10: 55.80%, entropy: 2.335163816769232\n",
      "Generation 11: 55.90%, entropy: 6.248283429861237\n",
      "Generation 12: 55.90%, entropy: 13.685447704399143\n",
      "Generation 13: 55.90%, entropy: 17.062171159877906\n",
      "Generation 14: 55.90%, entropy: 17.062171159877906\n",
      "Generation 15: 55.90%, entropy: 17.081229848576672\n",
      "Generation 16: 55.90%, entropy: 17.12591629478242\n",
      "Extinction!\n",
      "Generation 17: 55.90%, entropy: 2.2305261977071282\n",
      "Generation 18: 55.90%, entropy: 5.7141676418476415\n",
      "Generation 19: 55.90%, entropy: 10.866654995427334\n",
      "Generation 20: 55.90%, entropy: 14.077186955568921\n",
      "Generation 21: 55.90%, entropy: 15.298416870736817\n",
      "Generation 22: 55.90%, entropy: 16.471765919112162\n",
      "Generation 23: 55.90%, entropy: 17.244163529944334\n",
      "Generation 24: 55.90%, entropy: 17.387562115073848\n",
      "Generation 25: 55.90%, entropy: 17.388006072345803\n",
      "Generation 26: 55.90%, entropy: 17.788139630629576\n",
      "Generation 27: 55.90%, entropy: 17.82272867738083\n",
      "Generation 28: 55.90%, entropy: 17.875050185768533\n",
      "Generation 29: 55.90%, entropy: 18.220692830681035\n",
      "Generation 30: 55.90%, entropy: 18.24188186913865\n",
      "Generation 31: 55.90%, entropy: 18.3106167740032\n",
      "Generation 32: 55.90%, entropy: 18.26033663675311\n",
      "Generation 33: 55.90%, entropy: 18.205551157980278\n",
      "Generation 34: 55.90%, entropy: 18.10003449249554\n",
      "Generation 35: 55.90%, entropy: 17.861498417031378\n",
      "Generation 36: 55.90%, entropy: 17.785848797954493\n",
      "Generation 37: 55.90%, entropy: 17.77616313474777\n",
      "Generation 38: 55.90%, entropy: 17.758037480423862\n",
      "Generation 39: 55.90%, entropy: 17.791032563611004\n",
      "Generation 40: 55.90%, entropy: 17.820945494200092\n",
      "Generation 41: 55.90%, entropy: 17.800233992393505\n",
      "Generation 42: 55.90%, entropy: 17.774837692246813\n",
      "Generation 43: 55.90%, entropy: 18.094659892852086\n",
      "Generation 44: 55.90%, entropy: 18.091139148257163\n",
      "Generation 45: 55.90%, entropy: 18.09075477292639\n",
      "Generation 46: 55.90%, entropy: 18.09075477292639\n"
     ]
    }
   ],
   "source": [
    "# counter used to triger extinction\n",
    "countdown_to_extinction = N_GENS_WO_IMPROVEMENT_EXTINCTION\n",
    "\n",
    "# initial population\n",
    "pop=[Individual(choices([0, 1], k=GENOME_LENGHT)) for _ in range(POP_DIM)]\n",
    "\n",
    "best=max(pop, key=lambda i: i.get_fitness())\n",
    "\n",
    "for gen in range(N_GENERATIONS):\n",
    "\n",
    "    if countdown_to_extinction == 0:\n",
    "        print(\"Extinction!\")\n",
    "        to_keep=sorted(pop, key=lambda i: i.get_fitness(), reverse=True)[:10]\n",
    "        pop=to_keep+extinction(pop[10:],to_keep=10) \n",
    "\n",
    "    for off in range(OFFSPRING_SIZE):\n",
    "        \n",
    "        if randint(0,1) < MUTATION_PROB:\n",
    "            p=tournament_selection(pop)\n",
    "            offspring = mutation(p)\n",
    "            pop.append(offspring)\n",
    "        else:\n",
    "            p1,p2 = two_level_diversity_selection(pop, 3)\n",
    "            offspring = two_cut_xover_with_mut(p1, p2)\n",
    "    pop=sorted(pop, key=lambda i: i.get_fitness(), reverse=True)[:POP_DIM]\n",
    "\n",
    "    if pop[0].get_fitness() == best.get_fitness():\n",
    "        countdown_to_extinction-=1\n",
    "    else:\n",
    "        countdown_to_extinction = N_GENS_WO_IMPROVEMENT_EXTINCTION\n",
    "\n",
    "    best=pop[0]\n",
    "    \n",
    "    if best.get_fitness() == 1:\n",
    "        print(f\"Solution found at generation {gen}:{''.join(str(g) for g in best.get_genome())}\")\n",
    "        break\n",
    "\n",
    "    print(f\"Generation {gen}: {best.get_fitness():.2%}, entropy: {compute_pop_entropy(pop)}\")\n",
    "\n",
    "pprint(fitness.calls)\n"
   ]
  }
 ],
 "metadata": {
  "kernelspec": {
   "display_name": "ci-fLJ3OwGs-py3.12",
   "language": "python",
   "name": "python3"
  },
  "language_info": {
   "codemirror_mode": {
    "name": "ipython",
    "version": 3
   },
   "file_extension": ".py",
   "mimetype": "text/x-python",
   "name": "python",
   "nbconvert_exporter": "python",
   "pygments_lexer": "ipython3",
   "version": "3.12.0"
  }
 },
 "nbformat": 4,
 "nbformat_minor": 2
}
