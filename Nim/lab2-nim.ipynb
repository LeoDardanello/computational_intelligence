{
 "cells": [
  {
   "cell_type": "markdown",
   "metadata": {
    "pycharm": {
     "name": "#%% md\n"
    }
   },
   "source": [
    "Copyright **`(c)`** 2022 Giovanni Squillero `<squillero@polito.it>`  \n",
    "[`https://github.com/squillero/computational-intelligence`](https://github.com/squillero/computational-intelligence)  \n",
    "Free for personal or classroom use; see [`LICENSE.md`](https://github.com/squillero/computational-intelligence/blob/master/LICENSE.md) for details.  \n"
   ]
  },
  {
   "cell_type": "markdown",
   "metadata": {
    "pycharm": {
     "name": "#%%\n"
    }
   },
   "source": [
    "# Lab 2: ES\n",
    "\n",
    "## Task\n",
    "\n",
    "Write agents able to play [*Nim*](https://en.wikipedia.org/wiki/Nim), with an arbitrary number of rows and an upper bound $k$ on the number of objects that can be removed in a turn (a.k.a., *subtraction game*).\n",
    "\n",
    "The goal of the game is to **avoid** taking the last object.\n",
    "\n",
    "* Task2.1: An agent using fixed rules based on *nim-sum* (i.e., an *expert system*)\n",
    "* Task2.2: An agent using evolved rules using ES\n",
    "\n",
    "## Instructions\n",
    "\n",
    "* Create the directory `lab2` inside your personal course repository for the course \n",
    "* Put a `README.md` and your solution (all the files, code and auxiliary data if needed)\n",
    "\n",
    "## Notes\n",
    "\n",
    "* Working in group is not only allowed, but recommended (see: [Ubuntu](https://en.wikipedia.org/wiki/Ubuntu_philosophy) and [Cooperative Learning](https://files.eric.ed.gov/fulltext/EJ1096789.pdf)). Collaborations must be explicitly declared in the `README.md`.\n",
    "* [Yanking](https://www.emacswiki.org/emacs/KillingAndYanking) from the internet is allowed, but sources must be explicitly declared in the `README.md`.\n",
    "\n"
   ]
  },
  {
   "cell_type": "code",
   "execution_count": 1221,
   "metadata": {},
   "outputs": [],
   "source": [
    "import logging\n",
    "from pprint import pprint, pformat\n",
    "from collections import namedtuple\n",
    "import random\n",
    "from copy import deepcopy\n",
    "import numpy as np"
   ]
  },
  {
   "cell_type": "markdown",
   "metadata": {},
   "source": [
    "## The *Nim* and *Nimply* classes"
   ]
  },
  {
   "cell_type": "code",
   "execution_count": 1222,
   "metadata": {},
   "outputs": [],
   "source": [
    "Nimply = namedtuple(\"Nimply\", \"row, num_objects\")\n"
   ]
  },
  {
   "cell_type": "code",
   "execution_count": 1223,
   "metadata": {},
   "outputs": [],
   "source": [
    "class Nim:\n",
    "    def __init__(self, num_rows: int, k: int = None) -> None:\n",
    "        self._rows = [i * 2 + 1 for i in range(num_rows)]\n",
    "        self._k = k\n",
    "\n",
    "    def __bool__(self):\n",
    "        return sum(self._rows) > 0\n",
    "\n",
    "    def __str__(self):\n",
    "        return \"<\" + \" \".join(str(_) for _ in self._rows) + \">\"\n",
    "\n",
    "    @property\n",
    "    def rows(self) -> tuple:\n",
    "        return tuple(self._rows)\n",
    "\n",
    "    def nimming(self, ply: Nimply) -> None:\n",
    "        row, num_objects = ply\n",
    "        assert self._rows[row] >= num_objects\n",
    "        assert self._k is None or num_objects <= self._k\n",
    "        self._rows[row] -= num_objects\n"
   ]
  },
  {
   "cell_type": "markdown",
   "metadata": {},
   "source": [
    "## Sample (and silly) startegies "
   ]
  },
  {
   "cell_type": "code",
   "execution_count": 1224,
   "metadata": {},
   "outputs": [],
   "source": [
    "def pure_random(state: Nim) -> Nimply:\n",
    "    \"\"\"A completely random move\"\"\"\n",
    "    row = random.choice([r for r, c in enumerate(state.rows) if c > 0])\n",
    "    num_objects = random.randint(1, state.rows[row])\n",
    "    return Nimply(row, num_objects)\n"
   ]
  },
  {
   "cell_type": "code",
   "execution_count": 1225,
   "metadata": {},
   "outputs": [],
   "source": [
    "def gabriele(state: Nim) -> Nimply:\n",
    "    \"\"\"Pick always the maximum possible number of the lowest row\"\"\"\n",
    "    possible_moves = [(r, o) for r, c in enumerate(state.rows) for o in range(1, c + 1)]\n",
    "    return Nimply(*max(possible_moves, key=lambda m: (-m[0], m[1])))\n"
   ]
  },
  {
   "cell_type": "code",
   "execution_count": 1226,
   "metadata": {},
   "outputs": [],
   "source": [
    "def adaptive(state: Nim) -> Nimply:\n",
    "    \"\"\"A strategy that can adapt its parameters\"\"\"\n",
    "    genome = {\"love_small\": 0.5}\n"
   ]
  },
  {
   "cell_type": "code",
   "execution_count": 1227,
   "metadata": {},
   "outputs": [],
   "source": [
    "import numpy as np\n",
    "\n",
    "\n",
    "def nim_sum(state: Nim) -> int:\n",
    "    tmp = np.array([tuple(int(x) for x in f\"{c:032b}\") for c in state.rows])\n",
    "    xor = tmp.sum(axis=0) % 2\n",
    "    return int(\"\".join(str(_) for _ in xor), base=2)\n",
    "\n",
    "\n",
    "def analize(raw: Nim) -> dict:\n",
    "    cooked = dict()\n",
    "    cooked[\"possible_moves\"] = dict()\n",
    "    for ply in (Nimply(r, o) for r, c in enumerate(raw.rows) for o in range(1, c + 1)):\n",
    "        tmp = deepcopy(raw)\n",
    "        tmp.nimming(ply)\n",
    "        cooked[\"possible_moves\"][ply] = nim_sum(tmp)\n",
    "    return cooked\n",
    "\n",
    "\n",
    "def optimal(state: Nim) -> Nimply:\n",
    "    analysis = analize(state)\n",
    "    logging.debug(f\"analysis:\\n{pformat(analysis)}\")\n",
    "    spicy_moves = [ply for ply, ns in analysis[\"possible_moves\"].items() if ns != 0]\n",
    "    if not spicy_moves:\n",
    "        spicy_moves = list(analysis[\"possible_moves\"].keys())\n",
    "    ply = random.choice(spicy_moves)\n",
    "    return ply\n"
   ]
  },
  {
   "cell_type": "markdown",
   "metadata": {},
   "source": [
    "## (μ+λ) ES-Training"
   ]
  },
  {
   "cell_type": "code",
   "execution_count": 1228,
   "metadata": {},
   "outputs": [],
   "source": [
    "n_rules=3\n",
    "\n",
    "def mutate(ind):\n",
    "    new_prob=np.abs(np.random.normal(loc=ind[0],size=n_rules))\n",
    "    # print(\"sum before: {:.20f}\".format(sum(new_prob)))\n",
    "    new_prob=new_prob/sum(new_prob)\n",
    "    # print(\"sum aft: {:.20f}\".format(sum(new_prob)))\n",
    "    return [new_prob,None]\n",
    "    \n",
    "def sorting_key(el):\n",
    "    return float('-inf') if el is None else el\n",
    "\n",
    "def select_best(pop,mu):\n",
    "   return sorted(pop,key=lambda e:sorting_key(e[1]),reverse=True)[0:mu]\n",
    "\n",
    "def reset_fitness(pop):\n",
    "    for i,p in enumerate(pop):\n",
    "        pop[i][1]=None\n",
    "    return pop\n",
    "\n"
   ]
  },
  {
   "cell_type": "code",
   "execution_count": 1229,
   "metadata": {},
   "outputs": [],
   "source": [
    "def make_move1(ind,state)->Nimply:\n",
    "    \n",
    "    move=np.random.choice(3,p=ind[0])\n",
    "    if move==0:\n",
    "        # print(\"scelgo 1\")\n",
    "        # remove a random number of matches from the lowest row available\n",
    "        row=np.nonzero(state.rows)[0]\n",
    "        # pprint(f\"rows{row}\")\n",
    "        # pprint(f\"last_index_not_empty:{row[len(row)-1]}\")\n",
    "        index=row[len(row)-1]\n",
    "        # pprint(f\"num_of_obj_ind_last_index_not_empty:{state.rows[index]}\")\n",
    "        max_obj=state.rows[index]\n",
    "        if max_obj>1:\n",
    "            num_obj=np.random.randint(1,max_obj+1)\n",
    "        else:\n",
    "            num_obj=1\n",
    "        return Nimply(index,num_obj)\n",
    "    elif move==1:\n",
    "        # print(\"scelgo 2\")\n",
    "        # removes one match from the higher row available\n",
    "        row=np.nonzero(state.rows)\n",
    "        return Nimply(row[0][0],1)\n",
    "    elif move==2:\n",
    "        # print(\"scelgo 3 \")\n",
    "        # removes the maximum number of matches from a random row\n",
    "        row=np.random.randint(1,len(state.rows))\n",
    "        return Nimply(row,state.rows[row])\n",
    "    \n"
   ]
  },
  {
   "cell_type": "code",
   "execution_count": 1230,
   "metadata": {},
   "outputs": [],
   "source": [
    "def play_game(ind,my_strategy):\n",
    "    # logging.getLogger().setLevel(logging.INFO)\n",
    "\n",
    "    strategy = (my_strategy, optimal)\n",
    "\n",
    "    nim = Nim(5)\n",
    "    # logging.info(f\"init : {nim}\")\n",
    "    player = 0\n",
    "    while nim:\n",
    "        if player==0:\n",
    "            ply = strategy[player](ind,nim)\n",
    "        else:\n",
    "            ply = strategy[player](nim)\n",
    "        # logging.info(f\"ply: player {player} plays {ply}\")\n",
    "        nim.nimming(ply)\n",
    "        # logging.info(f\"status: {nim}\")\n",
    "        player = 1 - player\n",
    "    if player==0:\n",
    "        if ind[1] is None:\n",
    "            ind[1]=1\n",
    "        else:\n",
    "            ind[1]+=1\n",
    "    # logging.info(f\"status: Player {player} won!\")\n"
   ]
  },
  {
   "cell_type": "code",
   "execution_count": null,
   "metadata": {},
   "outputs": [],
   "source": []
  },
  {
   "cell_type": "code",
   "execution_count": 1231,
   "metadata": {},
   "outputs": [
    {
     "name": "stdout",
     "output_type": "stream",
     "text": [
      "[[array([0.03748732, 0.35599766, 0.60651503]), 1],\n",
      " [array([0.07779756, 0.10831816, 0.81388428]), 1],\n",
      " [array([0.11135574, 0.22481403, 0.66383023]), 1],\n",
      " [array([0.0181504 , 0.41325667, 0.56859293]), 1],\n",
      " [array([0.35051519, 0.18625972, 0.46322508]), 1],\n",
      " [array([0.37266598, 0.09443333, 0.53290069]), 1],\n",
      " [array([0.40467437, 0.14750475, 0.44782088]), 1],\n",
      " [array([0.15833965, 0.19384421, 0.64781614]), 1]]\n"
     ]
    }
   ],
   "source": [
    "n_gen=200\n",
    "n_games=300\n",
    "mu=8\n",
    "λ=32\n",
    "pop=[[[ np.float64(1/n_rules) for _ in range(n_rules)],None] for m in range(mu)]\n",
    "\n",
    "\n",
    "for gen in range(n_gen):\n",
    "    pop=reset_fitness(pop)\n",
    "    for p in range(len(pop)):\n",
    "        for i in range(λ//mu):\n",
    "            pop.append(mutate(pop[p]))\n",
    "\n",
    "    for ind in pop:\n",
    "        # play a game\n",
    "        play_game(ind,make_move1)\n",
    "\n",
    "    # pprint(f\"gen:{gen},before selection,pop{pop}\")\n",
    "    pop=select_best(pop,mu)\n",
    "    # pprint(f\"gen:{gen},after selection,pop:{pop}\")\n",
    "    \n",
    "\n",
    "\n",
    "pprint(pop)\n"
   ]
  },
  {
   "cell_type": "markdown",
   "metadata": {},
   "source": [
    "## Oversimplified match"
   ]
  },
  {
   "cell_type": "code",
   "execution_count": null,
   "metadata": {},
   "outputs": [],
   "source": []
  },
  {
   "cell_type": "code",
   "execution_count": null,
   "metadata": {},
   "outputs": [],
   "source": []
  },
  {
   "cell_type": "code",
   "execution_count": null,
   "metadata": {},
   "outputs": [],
   "source": []
  }
 ],
 "metadata": {
  "kernelspec": {
   "display_name": "Python 3.10.7 ('ci22-dPIXJ0_o-py3.10')",
   "language": "python",
   "name": "python3"
  },
  "language_info": {
   "codemirror_mode": {
    "name": "ipython",
    "version": 3
   },
   "file_extension": ".py",
   "mimetype": "text/x-python",
   "name": "python",
   "nbconvert_exporter": "python",
   "pygments_lexer": "ipython3",
   "version": "3.12.0"
  },
  "vscode": {
   "interpreter": {
    "hash": "10197e8e2f2aa67e2c349105091c77f4cd384fce4877865f002d9ec653f96bc0"
   }
  }
 },
 "nbformat": 4,
 "nbformat_minor": 2
}
