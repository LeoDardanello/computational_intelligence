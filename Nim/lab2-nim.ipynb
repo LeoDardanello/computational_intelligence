{
 "cells": [
  {
   "cell_type": "markdown",
   "metadata": {
    "pycharm": {
     "name": "#%% md\n"
    }
   },
   "source": [
    "Copyright **`(c)`** 2022 Giovanni Squillero `<squillero@polito.it>`  \n",
    "[`https://github.com/squillero/computational-intelligence`](https://github.com/squillero/computational-intelligence)  \n",
    "Free for personal or classroom use; see [`LICENSE.md`](https://github.com/squillero/computational-intelligence/blob/master/LICENSE.md) for details.  \n"
   ]
  },
  {
   "cell_type": "markdown",
   "metadata": {
    "pycharm": {
     "name": "#%%\n"
    }
   },
   "source": [
    "# Lab 2: ES\n",
    "\n",
    "## Task\n",
    "\n",
    "Write agents able to play [*Nim*](https://en.wikipedia.org/wiki/Nim), with an arbitrary number of rows and an upper bound $k$ on the number of objects that can be removed in a turn (a.k.a., *subtraction game*).\n",
    "\n",
    "The goal of the game is to **avoid** taking the last object.\n",
    "\n",
    "* Task2.1: An agent using fixed rules based on *nim-sum* (i.e., an *expert system*)\n",
    "* Task2.2: An agent using evolved rules using ES\n",
    "\n",
    "## Instructions\n",
    "\n",
    "* Create the directory `lab2` inside your personal course repository for the course \n",
    "* Put a `README.md` and your solution (all the files, code and auxiliary data if needed)\n",
    "\n",
    "## Notes\n",
    "\n",
    "* Working in group is not only allowed, but recommended (see: [Ubuntu](https://en.wikipedia.org/wiki/Ubuntu_philosophy) and [Cooperative Learning](https://files.eric.ed.gov/fulltext/EJ1096789.pdf)). Collaborations must be explicitly declared in the `README.md`.\n",
    "* [Yanking](https://www.emacswiki.org/emacs/KillingAndYanking) from the internet is allowed, but sources must be explicitly declared in the `README.md`.\n",
    "\n"
   ]
  },
  {
   "cell_type": "code",
   "execution_count": 1178,
   "metadata": {},
   "outputs": [],
   "source": [
    "import logging\n",
    "from pprint import pprint, pformat\n",
    "from collections import namedtuple\n",
    "import random\n",
    "from copy import deepcopy\n",
    "import numpy as np"
   ]
  },
  {
   "cell_type": "markdown",
   "metadata": {},
   "source": [
    "## The *Nim* and *Nimply* classes"
   ]
  },
  {
   "cell_type": "code",
   "execution_count": 1179,
   "metadata": {},
   "outputs": [],
   "source": [
    "Nimply = namedtuple(\"Nimply\", \"row, num_objects\")\n"
   ]
  },
  {
   "cell_type": "code",
   "execution_count": 1180,
   "metadata": {},
   "outputs": [],
   "source": [
    "class Nim:\n",
    "    def __init__(self, num_rows: int, k: int = None) -> None:\n",
    "        self._rows = [i * 2 + 1 for i in range(num_rows)]\n",
    "        self._k = k\n",
    "\n",
    "    def __bool__(self):\n",
    "        return sum(self._rows) > 0\n",
    "\n",
    "    def __str__(self):\n",
    "        return \"<\" + \" \".join(str(_) for _ in self._rows) + \">\"\n",
    "\n",
    "    @property\n",
    "    def rows(self) -> tuple:\n",
    "        return tuple(self._rows)\n",
    "\n",
    "    def nimming(self, ply: Nimply) -> None:\n",
    "        row, num_objects = ply\n",
    "        assert self._rows[row] >= num_objects\n",
    "        assert self._k is None or num_objects <= self._k\n",
    "        self._rows[row] -= num_objects\n"
   ]
  },
  {
   "cell_type": "markdown",
   "metadata": {},
   "source": [
    "## Sample (and silly) startegies "
   ]
  },
  {
   "cell_type": "code",
   "execution_count": 1181,
   "metadata": {},
   "outputs": [],
   "source": [
    "def pure_random(state: Nim) -> Nimply:\n",
    "    \"\"\"A completely random move\"\"\"\n",
    "    row = random.choice([r for r, c in enumerate(state.rows) if c > 0])\n",
    "    num_objects = random.randint(1, state.rows[row])\n",
    "    return Nimply(row, num_objects)\n"
   ]
  },
  {
   "cell_type": "code",
   "execution_count": 1182,
   "metadata": {},
   "outputs": [],
   "source": [
    "def gabriele(state: Nim) -> Nimply:\n",
    "    \"\"\"Pick always the maximum possible number of the lowest row\"\"\"\n",
    "    possible_moves = [(r, o) for r, c in enumerate(state.rows) for o in range(1, c + 1)]\n",
    "    return Nimply(*max(possible_moves, key=lambda m: (-m[0], m[1])))\n"
   ]
  },
  {
   "cell_type": "code",
   "execution_count": 1183,
   "metadata": {},
   "outputs": [],
   "source": [
    "def adaptive(state: Nim) -> Nimply:\n",
    "    \"\"\"A strategy that can adapt its parameters\"\"\"\n",
    "    genome = {\"love_small\": 0.5}\n"
   ]
  },
  {
   "cell_type": "code",
   "execution_count": 1184,
   "metadata": {},
   "outputs": [],
   "source": [
    "import numpy as np\n",
    "\n",
    "\n",
    "def nim_sum(state: Nim) -> int:\n",
    "    tmp = np.array([tuple(int(x) for x in f\"{c:032b}\") for c in state.rows])\n",
    "    xor = tmp.sum(axis=0) % 2\n",
    "    return int(\"\".join(str(_) for _ in xor), base=2)\n",
    "\n",
    "\n",
    "def analize(raw: Nim) -> dict:\n",
    "    cooked = dict()\n",
    "    cooked[\"possible_moves\"] = dict()\n",
    "    for ply in (Nimply(r, o) for r, c in enumerate(raw.rows) for o in range(1, c + 1)):\n",
    "        tmp = deepcopy(raw)\n",
    "        tmp.nimming(ply)\n",
    "        cooked[\"possible_moves\"][ply] = nim_sum(tmp)\n",
    "    return cooked\n",
    "\n",
    "\n",
    "def optimal(state: Nim) -> Nimply:\n",
    "    analysis = analize(state)\n",
    "    logging.debug(f\"analysis:\\n{pformat(analysis)}\")\n",
    "    spicy_moves = [ply for ply, ns in analysis[\"possible_moves\"].items() if ns != 0]\n",
    "    if not spicy_moves:\n",
    "        spicy_moves = list(analysis[\"possible_moves\"].keys())\n",
    "    ply = random.choice(spicy_moves)\n",
    "    return ply\n"
   ]
  },
  {
   "cell_type": "markdown",
   "metadata": {},
   "source": [
    "## (μ+λ) ES-Training"
   ]
  },
  {
   "cell_type": "code",
   "execution_count": 1185,
   "metadata": {},
   "outputs": [],
   "source": [
    "n_rules=3\n",
    "\n",
    "def mutate(ind):\n",
    "    new_prob=np.abs(np.random.normal(loc=ind[0],size=n_rules))\n",
    "    print(\"sum before: {:.20f}\".format(sum(new_prob)))\n",
    "    new_prob=new_prob/sum(new_prob)\n",
    "    print(\"sum aft: {:.20f}\".format(sum(new_prob)))\n",
    "    return (new_prob,None)\n",
    "    \n",
    "def sorting_key(el):\n",
    "    return float('inf') if el is None else el\n",
    "\n",
    "def select_best(pop):\n",
    "    sorted_pop=sorted(pop,key=lambda e:sorting_key(e[1]))\n",
    "    return sorted_pop\n"
   ]
  },
  {
   "cell_type": "code",
   "execution_count": 1186,
   "metadata": {},
   "outputs": [],
   "source": [
    "def make_move1(ind,state)->Nimply:\n",
    "    \n",
    "    move=np.random.choice(3,p=ind[0])\n",
    "    if move==0:\n",
    "        # removes a random number of matches from the bottom row\n",
    "        row=state.rows[len(state.row)-1]\n",
    "        return Nimply(row,np.randint(1,state.rows[row]))\n",
    "    elif move==1:\n",
    "        # removes one match from the higher row available\n",
    "        row=np.argmax(state.rows!=0)\n",
    "        return Nimply(row,1)\n",
    "    elif move==2:\n",
    "        # removes the maximum number of matches from a random row\n",
    "        row=np.randint(1,len(stae.rows)-1)\n",
    "        return Nimply(row,state.rows[row])\n",
    "    \n"
   ]
  },
  {
   "cell_type": "code",
   "execution_count": 1187,
   "metadata": {},
   "outputs": [],
   "source": [
    "def play_game(ind,my_strategy):\n",
    "    # logging.getLogger().setLevel(logging.INFO)\n",
    "\n",
    "    strategy = (my_strategy, optimal)\n",
    "\n",
    "    nim = Nim(5)\n",
    "    # logging.info(f\"init : {nim}\")\n",
    "    player = 0\n",
    "    while nim:\n",
    "        if player==0:\n",
    "            ply = strategy[player](ind,nim)\n",
    "        else:\n",
    "            ply = strategy[player](nim)\n",
    "        # logging.info(f\"ply: player {player} plays {ply}\")\n",
    "        nim.nimming(ply)\n",
    "        # logging.info(f\"status: {nim}\")\n",
    "        player = 1 - player\n",
    "    if player==0:\n",
    "        ind[1]=ind[1]+1\n",
    "    # logging.info(f\"status: Player {player} won!\")\n"
   ]
  },
  {
   "cell_type": "code",
   "execution_count": 1188,
   "metadata": {},
   "outputs": [
    {
     "name": "stdout",
     "output_type": "stream",
     "text": [
      "sum before: 2.03459139121234144909\n",
      "sum aft: 1.00000000000000000000\n",
      "sum before: 1.72586633901776531630\n",
      "sum aft: 1.00000000000000000000\n",
      "'figli generati'\n"
     ]
    },
    {
     "ename": "ValueError",
     "evalue": "probabilities do not sum to 1",
     "output_type": "error",
     "traceback": [
      "\u001b[1;31m---------------------------------------------------------------------------\u001b[0m",
      "\u001b[1;31mValueError\u001b[0m                                Traceback (most recent call last)",
      "\u001b[1;32mc:\\Users\\darda\\Desktop\\CI\\computational_intelligence_mine\\Nim\\lab2-nim.ipynb Cell 16\u001b[0m line \u001b[0;36m2\n\u001b[0;32m     <a href='vscode-notebook-cell:/c%3A/Users/darda/Desktop/CI/computational_intelligence_mine/Nim/lab2-nim.ipynb#X16sZmlsZQ%3D%3D?line=15'>16</a>\u001b[0m     pprint(\u001b[39m\"\u001b[39m\u001b[39mfigli generati\u001b[39m\u001b[39m\"\u001b[39m)\n\u001b[0;32m     <a href='vscode-notebook-cell:/c%3A/Users/darda/Desktop/CI/computational_intelligence_mine/Nim/lab2-nim.ipynb#X16sZmlsZQ%3D%3D?line=17'>18</a>\u001b[0m     \u001b[39mfor\u001b[39;00m ind \u001b[39min\u001b[39;00m pop:\n\u001b[0;32m     <a href='vscode-notebook-cell:/c%3A/Users/darda/Desktop/CI/computational_intelligence_mine/Nim/lab2-nim.ipynb#X16sZmlsZQ%3D%3D?line=18'>19</a>\u001b[0m         \u001b[39m# play a game\u001b[39;00m\n\u001b[1;32m---> <a href='vscode-notebook-cell:/c%3A/Users/darda/Desktop/CI/computational_intelligence_mine/Nim/lab2-nim.ipynb#X16sZmlsZQ%3D%3D?line=19'>20</a>\u001b[0m         play_game(ind,make_move1)\n\u001b[0;32m     <a href='vscode-notebook-cell:/c%3A/Users/darda/Desktop/CI/computational_intelligence_mine/Nim/lab2-nim.ipynb#X16sZmlsZQ%3D%3D?line=21'>22</a>\u001b[0m pprint(pop)\n",
      "\u001b[1;32mc:\\Users\\darda\\Desktop\\CI\\computational_intelligence_mine\\Nim\\lab2-nim.ipynb Cell 16\u001b[0m line \u001b[0;36m1\n\u001b[0;32m      <a href='vscode-notebook-cell:/c%3A/Users/darda/Desktop/CI/computational_intelligence_mine/Nim/lab2-nim.ipynb#X16sZmlsZQ%3D%3D?line=8'>9</a>\u001b[0m \u001b[39mwhile\u001b[39;00m nim:\n\u001b[0;32m     <a href='vscode-notebook-cell:/c%3A/Users/darda/Desktop/CI/computational_intelligence_mine/Nim/lab2-nim.ipynb#X16sZmlsZQ%3D%3D?line=9'>10</a>\u001b[0m     \u001b[39mif\u001b[39;00m player\u001b[39m==\u001b[39m\u001b[39m0\u001b[39m:\n\u001b[1;32m---> <a href='vscode-notebook-cell:/c%3A/Users/darda/Desktop/CI/computational_intelligence_mine/Nim/lab2-nim.ipynb#X16sZmlsZQ%3D%3D?line=10'>11</a>\u001b[0m         ply \u001b[39m=\u001b[39m strategy[player](ind,nim)\n\u001b[0;32m     <a href='vscode-notebook-cell:/c%3A/Users/darda/Desktop/CI/computational_intelligence_mine/Nim/lab2-nim.ipynb#X16sZmlsZQ%3D%3D?line=11'>12</a>\u001b[0m     \u001b[39melse\u001b[39;00m:\n\u001b[0;32m     <a href='vscode-notebook-cell:/c%3A/Users/darda/Desktop/CI/computational_intelligence_mine/Nim/lab2-nim.ipynb#X16sZmlsZQ%3D%3D?line=12'>13</a>\u001b[0m         ply \u001b[39m=\u001b[39m strategy[player](nim)\n",
      "\u001b[1;32mc:\\Users\\darda\\Desktop\\CI\\computational_intelligence_mine\\Nim\\lab2-nim.ipynb Cell 16\u001b[0m line \u001b[0;36m3\n\u001b[0;32m      <a href='vscode-notebook-cell:/c%3A/Users/darda/Desktop/CI/computational_intelligence_mine/Nim/lab2-nim.ipynb#X16sZmlsZQ%3D%3D?line=0'>1</a>\u001b[0m \u001b[39mdef\u001b[39;00m \u001b[39mmake_move1\u001b[39m(ind,state)\u001b[39m-\u001b[39m\u001b[39m>\u001b[39mNimply:\n\u001b[1;32m----> <a href='vscode-notebook-cell:/c%3A/Users/darda/Desktop/CI/computational_intelligence_mine/Nim/lab2-nim.ipynb#X16sZmlsZQ%3D%3D?line=2'>3</a>\u001b[0m     move\u001b[39m=\u001b[39mnp\u001b[39m.\u001b[39;49mrandom\u001b[39m.\u001b[39;49mchoice(\u001b[39m3\u001b[39;49m,p\u001b[39m=\u001b[39;49mind[\u001b[39m0\u001b[39;49m])\n\u001b[0;32m      <a href='vscode-notebook-cell:/c%3A/Users/darda/Desktop/CI/computational_intelligence_mine/Nim/lab2-nim.ipynb#X16sZmlsZQ%3D%3D?line=3'>4</a>\u001b[0m     \u001b[39mif\u001b[39;00m move\u001b[39m==\u001b[39m\u001b[39m0\u001b[39m:\n\u001b[0;32m      <a href='vscode-notebook-cell:/c%3A/Users/darda/Desktop/CI/computational_intelligence_mine/Nim/lab2-nim.ipynb#X16sZmlsZQ%3D%3D?line=4'>5</a>\u001b[0m         \u001b[39m# removes a random number of matches from the bottom row\u001b[39;00m\n\u001b[0;32m      <a href='vscode-notebook-cell:/c%3A/Users/darda/Desktop/CI/computational_intelligence_mine/Nim/lab2-nim.ipynb#X16sZmlsZQ%3D%3D?line=5'>6</a>\u001b[0m         row\u001b[39m=\u001b[39mstate\u001b[39m.\u001b[39mrows[\u001b[39mlen\u001b[39m(state\u001b[39m.\u001b[39mrow)\u001b[39m-\u001b[39m\u001b[39m1\u001b[39m]\n",
      "File \u001b[1;32mnumpy\\\\random\\\\mtrand.pyx:974\u001b[0m, in \u001b[0;36mnumpy.random.mtrand.RandomState.choice\u001b[1;34m()\u001b[0m\n",
      "\u001b[1;31mValueError\u001b[0m: probabilities do not sum to 1"
     ]
    }
   ],
   "source": [
    "n_gen=1\n",
    "n_games=10 \n",
    "mu=1\n",
    "λ=2\n",
    "pop=[([0.0 for _ in range(n_rules)],None) for m in range(mu)]\n",
    "\n",
    "for gen in range(n_gen):\n",
    "    # select best parent(top λ)\n",
    "    for m in range(mu):\n",
    "        parents=select_best(pop)\n",
    "\n",
    "    for p in range(len(parents)):\n",
    "        for i in range(λ//mu):\n",
    "            pop.append(mutate(parents[p]))\n",
    "\n",
    "    pprint(\"figli generati\")\n",
    "    \n",
    "    for ind in pop:\n",
    "        # play a game\n",
    "        play_game(ind,make_move1)\n",
    "\n",
    "pprint(pop)"
   ]
  },
  {
   "cell_type": "markdown",
   "metadata": {},
   "source": [
    "## Oversimplified match"
   ]
  },
  {
   "cell_type": "code",
   "execution_count": null,
   "metadata": {},
   "outputs": [],
   "source": []
  },
  {
   "cell_type": "code",
   "execution_count": null,
   "metadata": {},
   "outputs": [],
   "source": []
  },
  {
   "cell_type": "code",
   "execution_count": null,
   "metadata": {},
   "outputs": [],
   "source": []
  }
 ],
 "metadata": {
  "kernelspec": {
   "display_name": "Python 3.10.7 ('ci22-dPIXJ0_o-py3.10')",
   "language": "python",
   "name": "python3"
  },
  "language_info": {
   "codemirror_mode": {
    "name": "ipython",
    "version": 3
   },
   "file_extension": ".py",
   "mimetype": "text/x-python",
   "name": "python",
   "nbconvert_exporter": "python",
   "pygments_lexer": "ipython3",
   "version": "3.12.0"
  },
  "vscode": {
   "interpreter": {
    "hash": "10197e8e2f2aa67e2c349105091c77f4cd384fce4877865f002d9ec653f96bc0"
   }
  }
 },
 "nbformat": 4,
 "nbformat_minor": 2
}
