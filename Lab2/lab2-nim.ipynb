{
 "cells": [
  {
   "cell_type": "markdown",
   "metadata": {
    "pycharm": {
     "name": "#%% md\n"
    }
   },
   "source": [
    "Copyright **`(c)`** 2022 Giovanni Squillero `<squillero@polito.it>`  \n",
    "[`https://github.com/squillero/computational-intelligence`](https://github.com/squillero/computational-intelligence)  \n",
    "Free for personal or classroom use; see [`LICENSE.md`](https://github.com/squillero/computational-intelligence/blob/master/LICENSE.md) for details.  \n"
   ]
  },
  {
   "cell_type": "markdown",
   "metadata": {
    "pycharm": {
     "name": "#%%\n"
    }
   },
   "source": [
    "# Lab 2: ES\n",
    "\n",
    "## Task\n",
    "\n",
    "Write agents able to play [*Nim*](https://en.wikipedia.org/wiki/Nim), with an arbitrary number of rows and an upper bound $k$ on the number of objects that can be removed in a turn (a.k.a., *subtraction game*).\n",
    "\n",
    "The goal of the game is to **avoid** taking the last object.\n",
    "\n",
    "* Task2.1: An agent using fixed rules based on *nim-sum* (i.e., an *expert system*)\n",
    "* Task2.2: An agent using evolved rules using ES\n",
    "\n",
    "## Instructions\n",
    "\n",
    "* Create the directory `lab2` inside your personal course repository for the course \n",
    "* Put a `README.md` and your solution (all the files, code and auxiliary data if needed)\n",
    "\n",
    "## Notes\n",
    "\n",
    "* Working in group is not only allowed, but recommended (see: [Ubuntu](https://en.wikipedia.org/wiki/Ubuntu_philosophy) and [Cooperative Learning](https://files.eric.ed.gov/fulltext/EJ1096789.pdf)). Collaborations must be explicitly declared in the `README.md`.\n",
    "* [Yanking](https://www.emacswiki.org/emacs/KillingAndYanking) from the internet is allowed, but sources must be explicitly declared in the `README.md`.\n",
    "\n"
   ]
  },
  {
   "cell_type": "code",
   "execution_count": 129,
   "metadata": {},
   "outputs": [],
   "source": [
    "import logging\n",
    "from pprint import pprint, pformat\n",
    "from collections import namedtuple\n",
    "import random\n",
    "from copy import deepcopy\n",
    "import numpy as np\n",
    "from tqdm.notebook import tqdm\n",
    "\n",
    "n_rules=3\n"
   ]
  },
  {
   "cell_type": "markdown",
   "metadata": {},
   "source": [
    "## The *Nim* and *Nimply* classes"
   ]
  },
  {
   "cell_type": "code",
   "execution_count": 130,
   "metadata": {},
   "outputs": [],
   "source": [
    "Nimply = namedtuple(\"Nimply\", \"row, num_objects\")"
   ]
  },
  {
   "cell_type": "code",
   "execution_count": 131,
   "metadata": {},
   "outputs": [],
   "source": [
    "class Nim:\n",
    "    def __init__(self, num_rows: int, k: int = None) -> None:\n",
    "        self._rows = [i * 2 + 1 for i in range(num_rows)]\n",
    "        self._k = k\n",
    "\n",
    "    def __bool__(self):\n",
    "        return sum(self._rows) > 0\n",
    "\n",
    "    def __str__(self):\n",
    "        return \"<\" + \" \".join(str(_) for _ in self._rows) + \">\"\n",
    "\n",
    "    @property\n",
    "    def rows(self) -> tuple:\n",
    "        return tuple(self._rows)\n",
    "\n",
    "    def nimming(self, ply: Nimply) -> None:\n",
    "        row, num_objects = ply\n",
    "        assert self._rows[row] >= num_objects\n",
    "        assert self._k is None or num_objects <= self._k\n",
    "        self._rows[row] -= num_objects\n"
   ]
  },
  {
   "cell_type": "markdown",
   "metadata": {},
   "source": [
    "## Sample (and silly) startegies "
   ]
  },
  {
   "cell_type": "code",
   "execution_count": 132,
   "metadata": {},
   "outputs": [],
   "source": [
    "def pure_random(state: Nim) -> Nimply:\n",
    "    \"\"\"A completely random move\"\"\"\n",
    "    row = random.choice([r for r, c in enumerate(state.rows) if c > 0])\n",
    "    num_objects = random.randint(1, state.rows[row])\n",
    "    return Nimply(row, num_objects)\n"
   ]
  },
  {
   "cell_type": "code",
   "execution_count": 133,
   "metadata": {},
   "outputs": [],
   "source": [
    "def gabriele(state: Nim) -> Nimply:\n",
    "    \"\"\"Pick always the maximum possible number of the lowest row\"\"\"\n",
    "    possible_moves = [(r, o) for r, c in enumerate(state.rows) for o in range(1, c + 1)]\n",
    "    return Nimply(*max(possible_moves, key=lambda m: (-m[0], m[1])))\n"
   ]
  },
  {
   "cell_type": "code",
   "execution_count": 134,
   "metadata": {},
   "outputs": [],
   "source": [
    "def adaptive(state: Nim) -> Nimply:\n",
    "    \"\"\"A strategy that can adapt its parameters\"\"\"\n",
    "    genome = {\"love_small\": 0.5}\n"
   ]
  },
  {
   "cell_type": "code",
   "execution_count": 135,
   "metadata": {},
   "outputs": [],
   "source": [
    "import numpy as np\n",
    "\n",
    "\n",
    "def nim_sum(state: Nim) -> int:\n",
    "    tmp = np.array([tuple(int(x) for x in f\"{c:032b}\") for c in state.rows])\n",
    "    xor = tmp.sum(axis=0) % 2\n",
    "    return int(\"\".join(str(_) for _ in xor), base=2)\n",
    "\n",
    "\n",
    "def analize(raw: Nim) -> dict:\n",
    "    cooked = dict()\n",
    "    cooked[\"possible_moves\"] = dict()\n",
    "    for ply in (Nimply(r, o) for r, c in enumerate(raw.rows) for o in range(1, c + 1)):\n",
    "        tmp = deepcopy(raw)\n",
    "        tmp.nimming(ply)\n",
    "        cooked[\"possible_moves\"][ply] = nim_sum(tmp)\n",
    "    return cooked\n",
    "\n",
    "\n",
    "def optimal(state: Nim) -> Nimply:\n",
    "    analysis = analize(state)\n",
    "    logging.debug(f\"analysis:\\n{pformat(analysis)}\")\n",
    "    spicy_moves = [ply for ply, ns in analysis[\"possible_moves\"].items() if ns != 0]\n",
    "    if not spicy_moves:\n",
    "        spicy_moves = list(analysis[\"possible_moves\"].keys())\n",
    "    ply = random.choice(spicy_moves)\n",
    "    return ply\n"
   ]
  },
  {
   "cell_type": "markdown",
   "metadata": {},
   "source": [
    "## Self-Adaptive (μ+λ) ES-Training"
   ]
  },
  {
   "cell_type": "code",
   "execution_count": 136,
   "metadata": {},
   "outputs": [],
   "source": [
    "\n",
    "def mutate(ind):\n",
    "    new_prob=np.abs(np.random.normal(loc=ind[0],size=n_rules,scale=ind[2]))\n",
    "    return [new_prob,0,ind[2]]\n",
    "    \n",
    "def update_sigma(ind):\n",
    "    new_sigma=np.abs(np.random.normal(loc=ind[2],scale=0.2))\n",
    "    return [ind[0],ind[1],new_sigma]\n",
    "\n",
    "def select_best(pop,mu):\n",
    "   return sorted(pop,key=lambda e:e[1],reverse=True)[0:mu]\n",
    "\n",
    "def reset_fitness(pop):\n",
    "    for i,p in enumerate(pop):\n",
    "        pop[i][1]=0\n",
    "    return pop\n",
    "\n",
    "def get_max(pop):\n",
    "    fitness_val=[]\n",
    "    for i,el in enumerate(pop):\n",
    "        fitness_val.append(pop[i][1])\n",
    "    best_fit=np.argmax(fitness_val)\n",
    "    return pop[best_fit]\n",
    "\n"
   ]
  },
  {
   "cell_type": "code",
   "execution_count": 137,
   "metadata": {},
   "outputs": [],
   "source": [
    "def make_move1(ind,state)->Nimply:\n",
    "    # normalizing to transform in probabilities\n",
    "    ind[0]=ind[0]/sum(ind[0])\n",
    "    move=np.random.choice(len(ind[0]),p=ind[0])\n",
    "\n",
    "    if move==0:\n",
    "        # remove a random number of matches from the lowest row available\n",
    "        row=np.nonzero(state.rows)[0]\n",
    "        index=row[len(row)-1]\n",
    "        max_obj=state.rows[index]\n",
    "        if max_obj>1:\n",
    "            num_obj=np.random.randint(1,max_obj+1)\n",
    "        else:\n",
    "            num_obj=1\n",
    "        return Nimply(index,num_obj)\n",
    "    elif move==1:\n",
    "        # removes one match from the higher row available\n",
    "        row=np.nonzero(state.rows)\n",
    "        return Nimply(row[0][0],1)\n",
    "    elif move==2:\n",
    "        # removes the maximum number of matches from a random row\n",
    "        index=np.nonzero(state.rows)[0]\n",
    "        row= np.random.choice(index)\n",
    "        return Nimply(row,state.rows[row])\n",
    "    elif move==3:\n",
    "        # removes an odd number of matches from a random row \n",
    "        index=np.nonzero(state.rows)[0]\n",
    "        row=np.random.choice(index)\n",
    "        if state.rows[row]>1:\n",
    "            num_obj=np.random.randint(1,state.rows[row]+1)\n",
    "        else:\n",
    "            num_obj=1\n",
    "        return Nimply(row,num_obj)\n",
    "    \n"
   ]
  },
  {
   "cell_type": "code",
   "execution_count": 138,
   "metadata": {},
   "outputs": [],
   "source": [
    "def make_move2(ind,state)->Nimply:\n",
    "    # normalizing to transform in probabilities\n",
    "    ind[0]=ind[0]/sum(ind[0])\n",
    "    move=np.random.choice(3,p=ind[0])\n",
    "    \n",
    "    if move==0:\n",
    "        # remove a random number of matches from the lowest row available\n",
    "        row=np.nonzero(state.rows)[0]\n",
    "        index=row[len(row)-1]\n",
    "        max_obj=state.rows[index]\n",
    "        if max_obj>1:\n",
    "            num_obj=np.random.randint(1,max_obj+1)\n",
    "        else:\n",
    "            num_obj=1\n",
    "        return Nimply(index,num_obj)\n",
    "    elif move==1:\n",
    "        # removes one match from the higher row available\n",
    "        row=np.nonzero(state.rows)\n",
    "        return Nimply(row[0][0],1)\n",
    "    elif move==2:\n",
    "        # golden rule\n",
    "        analysis = analize(state)\n",
    "        spicy_moves = [ply for ply, ns in analysis[\"possible_moves\"].items() if ns != 0]\n",
    "        if not spicy_moves:\n",
    "            spicy_moves = list(analysis[\"possible_moves\"].keys())\n",
    "        ply = random.choice(spicy_moves)\n",
    "        return ply\n",
    "        \n",
    "    "
   ]
  },
  {
   "cell_type": "code",
   "execution_count": 139,
   "metadata": {},
   "outputs": [],
   "source": [
    "def play_game(ind,my_strategy):\n",
    "    # logging.getLogger().setLevel(logging.INFO)\n",
    "    \n",
    "    strategy = (my_strategy, optimal)\n",
    "\n",
    "    nim = Nim(5)\n",
    "    # logging.info(f\"init : {nim}\")\n",
    "    player = 0\n",
    "    while nim:\n",
    "        if player==0:\n",
    "            ply = strategy[player](ind,nim)\n",
    "        else:\n",
    "            ply = strategy[player](nim)\n",
    "        # logging.info(f\"ply: player {player} plays {ply}\")\n",
    "        nim.nimming(ply)\n",
    "        # logging.info(f\"status: {nim}\")\n",
    "        player = 1 - player\n",
    "    if player==0:\n",
    "        ind[1]+=1\n",
    "    # logging.info(f\"status: Player {player} won!\")\n"
   ]
  },
  {
   "cell_type": "code",
   "execution_count": 140,
   "metadata": {},
   "outputs": [
    {
     "data": {
      "application/vnd.jupyter.widget-view+json": {
       "model_id": "2458324ac49440b6899d0e4699403235",
       "version_major": 2,
       "version_minor": 0
      },
      "text/plain": [
       "  0%|          | 0/5 [00:00<?, ?it/s]"
      ]
     },
     "metadata": {},
     "output_type": "display_data"
    },
    {
     "name": "stdout",
     "output_type": "stream",
     "text": [
      "[array([0.05875954, 0.19680397, 0.7444365 ]), 51, 1.0338522370398953]\n"
     ]
    }
   ],
   "source": [
    "n_gen=5\n",
    "n_games=100\n",
    "mu=10\n",
    "λ=40\n",
    "best=0\n",
    "\n",
    "#  initial probabilities,fitness,sigma\n",
    "pop=[[[ np.float64(1/n_rules) for _ in range(n_rules)],0,1] for m in range(mu)]\n",
    "\n",
    "for gen in tqdm(range(n_gen)):\n",
    "    pop=reset_fitness(pop)\n",
    "    \n",
    "    for p in range(len(pop)):\n",
    "        pop[p]=update_sigma(pop[p])\n",
    "        for i in range(λ//mu):\n",
    "            pop.append(mutate(pop[p]))\n",
    "\n",
    "    for ind in pop:\n",
    "        for game in range(n_games):\n",
    "            # play a game\n",
    "            play_game(ind,make_move2)\n",
    "    \n",
    "    pop=select_best(pop,mu)\n",
    "    gen_best=get_max(pop)\n",
    "    best=gen_best if best==0 or gen_best[1]>best[1] else best\n",
    "pprint(best)\n"
   ]
  }
 ],
 "metadata": {
  "kernelspec": {
   "display_name": "Python 3.10.7 ('ci22-dPIXJ0_o-py3.10')",
   "language": "python",
   "name": "python3"
  },
  "language_info": {
   "codemirror_mode": {
    "name": "ipython",
    "version": 3
   },
   "file_extension": ".py",
   "mimetype": "text/x-python",
   "name": "python",
   "nbconvert_exporter": "python",
   "pygments_lexer": "ipython3",
   "version": "3.12.0"
  },
  "vscode": {
   "interpreter": {
    "hash": "10197e8e2f2aa67e2c349105091c77f4cd384fce4877865f002d9ec653f96bc0"
   }
  }
 },
 "nbformat": 4,
 "nbformat_minor": 2
}
